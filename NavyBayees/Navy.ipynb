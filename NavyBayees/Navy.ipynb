{
 "cells": [
  {
   "cell_type": "code",
   "execution_count": 1,
   "id": "ef3d3051",
   "metadata": {},
   "outputs": [],
   "source": [
    "import numpy as np\n",
    "import pandas as pd"
   ]
  },
  {
   "cell_type": "code",
   "execution_count": null,
   "id": "b43eacd2",
   "metadata": {},
   "outputs": [],
   "source": []
  },
  {
   "cell_type": "code",
   "execution_count": 2,
   "id": "8265057f",
   "metadata": {},
   "outputs": [],
   "source": [
    "outlook = 'overcast,overcast,overcast,overcast,rainy,rainy,rainy,rainy,rainy,sunny,sunny,sunny,sunny,sunny'.split(',')\n",
    "\n",
    "temp = 'hot,cool,mild,hot,mild,cool,cool,mild,mild,hot,hot,mild,cool,mild'.split(',')\n",
    "\n",
    "humidity = 'high,normal,high,normal,high,normal,normal,normal,high,high,high,high,normal,normal'.split(',')\n",
    "\n",
    "windy = 'FALSE,TRUE,TRUE,FALSE,FALSE,FALSE,TRUE,FALSE,TRUE,FALSE,TRUE,FALSE,FALSE,TRUE'.split(',')\n",
    "\n",
    "play = 'yes,yes,yes,yes,yes,yes,no,yes,no,no,no,no,yes,yes'.split(',')"
   ]
  },
  {
   "cell_type": "code",
   "execution_count": 3,
   "id": "68a2c0e2",
   "metadata": {},
   "outputs": [],
   "source": [
    "dataset ={'outlook':outlook,'temp':temp,'humidity':humidity,'windy':windy,'play':play}\n",
    "\n",
    "dataframe = pd.DataFrame(dataset,columns=['outlook','temp','humidity','windy','play'])"
   ]
  },
  {
   "cell_type": "code",
   "execution_count": 4,
   "id": "8ca91415",
   "metadata": {},
   "outputs": [
    {
     "ename": "NameError",
     "evalue": "name 'tennis' is not defined",
     "output_type": "error",
     "traceback": [
      "\u001b[0;31m---------------------------------------------------------------------------\u001b[0m",
      "\u001b[0;31mNameError\u001b[0m                                 Traceback (most recent call last)",
      "\u001b[0;32m/var/folders/30/gqp_7g8172165vfbn3k7zhkr0000gn/T/ipykernel_23000/1362192016.py\u001b[0m in \u001b[0;36m<module>\u001b[0;34m\u001b[0m\n\u001b[0;32m----> 1\u001b[0;31m \u001b[0mct_outlook\u001b[0m\u001b[0;34m=\u001b[0m\u001b[0mpd\u001b[0m\u001b[0;34m.\u001b[0m\u001b[0mcrosstab\u001b[0m\u001b[0;34m(\u001b[0m\u001b[0mtennis\u001b[0m\u001b[0;34m[\u001b[0m\u001b[0;34m'outlook'\u001b[0m\u001b[0;34m]\u001b[0m\u001b[0;34m,\u001b[0m \u001b[0mtennis\u001b[0m\u001b[0;34m[\u001b[0m\u001b[0;34m'play'\u001b[0m\u001b[0;34m]\u001b[0m\u001b[0;34m,\u001b[0m \u001b[0mmargins\u001b[0m \u001b[0;34m=\u001b[0m \u001b[0;32mTrue\u001b[0m\u001b[0;34m)\u001b[0m\u001b[0;34m\u001b[0m\u001b[0;34m\u001b[0m\u001b[0m\n\u001b[0m\u001b[1;32m      2\u001b[0m \u001b[0mct_outlook\u001b[0m\u001b[0;34m\u001b[0m\u001b[0;34m\u001b[0m\u001b[0m\n",
      "\u001b[0;31mNameError\u001b[0m: name 'tennis' is not defined"
     ]
    }
   ],
   "source": [
    "ct_outlook=pd.crosstab(tennis['outlook'], tennis['play'], margins = True)\n",
    "ct_outlook"
   ]
  },
  {
   "cell_type": "code",
   "execution_count": null,
   "id": "2262132b",
   "metadata": {},
   "outputs": [],
   "source": [
    "ct_temp=pd.crosstab(tennis['temp'], tennis['play'], margins = True)\n",
    "ct_temp"
   ]
  },
  {
   "cell_type": "code",
   "execution_count": null,
   "id": "8488c6b7",
   "metadata": {},
   "outputs": [],
   "source": [
    "ct_humidity=pd.crosstab(tennis['humidity'], tennis['play'], margins = True)\n",
    "ct_humidity"
   ]
  },
  {
   "cell_type": "code",
   "execution_count": null,
   "id": "7706d99b",
   "metadata": {},
   "outputs": [],
   "source": [
    "ct_windy=pd.crosstab(tennis['windy'], tennis['play'], margins = True)\n",
    "ct_windy"
   ]
  },
  {
   "cell_type": "code",
   "execution_count": null,
   "id": "027bc50c",
   "metadata": {},
   "outputs": [],
   "source": [
    "ct_play=pd.crosstab(index=tennis['play'],columns=\"count\", margins=True)\n",
    "ct_play"
   ]
  },
  {
   "cell_type": "code",
   "execution_count": null,
   "id": "d4380628",
   "metadata": {},
   "outputs": [],
   "source": [
    "# calculation of P(yes/(sunny,hot,high,true))= p(yes) *  [ P(sunny/yes)* p(hot/yes) * p(high/yes)* p(true/yes)]\n",
    "\n",
    "p_yes = ct_play.iloc[1,0] /ct_play.iloc[2,0] * ct_outlook.iloc[2,1]/ct_outlook.iloc[3,1] * ct_temp.iloc[1,1]/ct_temp.iloc[3,1]*ct_humidity.iloc[0,1]/ct_humidity.iloc[2,1]*ct_windy.iloc[1,1]/ct_windy.iloc[2,1] \n",
    "print('The probability of tennis played with given conditions is', '%.3f'%p_yes)"
   ]
  },
  {
   "cell_type": "code",
   "execution_count": null,
   "id": "07dba7b8",
   "metadata": {},
   "outputs": [],
   "source": [
    "# calculation of P(no/(sunny,hot,high,true))= p(no) *  [ P(sunny/no)* p(hot/no) * p(high/no)* p(true/no)]\n",
    "\n",
    "p_no = ct_play.iloc[0,0] /ct_play.iloc[2,0] * ct_outlook.iloc[2,0]/ct_outlook.iloc[3,0] * ct_temp.iloc[1,0]/ct_temp.iloc[3,0]*ct_humidity.iloc[0,0]/ct_humidity.iloc[2,0]*ct_windy.iloc[1,0]/ct_windy.iloc[2,0] \n",
    "print('The probability of tennis not played with given conditions is', '%.3f'%p_no)"
   ]
  },
  {
   "cell_type": "code",
   "execution_count": null,
   "id": "9b319ee3",
   "metadata": {},
   "outputs": [],
   "source": [
    "if p_yes > p_no:\n",
    "      print('tennis match will be conducted when the outlook is sunny, the temperature is hot, there is high humidity and windy is higher')\n",
    "else:\n",
    "      print('tennis match will not be conducted when the outlook is sunny, the temperature is hot, there is high humidity and windy is higher')"
   ]
  },
  {
   "cell_type": "code",
   "execution_count": null,
   "id": "f428bbca",
   "metadata": {},
   "outputs": [],
   "source": []
  }
 ],
 "metadata": {
  "kernelspec": {
   "display_name": "Python 3 (ipykernel)",
   "language": "python",
   "name": "python3"
  },
  "language_info": {
   "codemirror_mode": {
    "name": "ipython",
    "version": 3
   },
   "file_extension": ".py",
   "mimetype": "text/x-python",
   "name": "python",
   "nbconvert_exporter": "python",
   "pygments_lexer": "ipython3",
   "version": "3.9.7"
  }
 },
 "nbformat": 4,
 "nbformat_minor": 5
}
