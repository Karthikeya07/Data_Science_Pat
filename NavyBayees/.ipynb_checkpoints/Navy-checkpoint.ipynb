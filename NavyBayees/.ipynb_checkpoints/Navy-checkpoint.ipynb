{
 "cells": [
  {
   "cell_type": "code",
   "execution_count": null,
   "id": "ef3d3051",
   "metadata": {},
   "outputs": [],
   "source": [
    "import numpy as np\n",
    "import pandas as pd"
   ]
  },
  {
   "cell_type": "code",
   "execution_count": null,
   "id": "b43eacd2",
   "metadata": {},
   "outputs": [],
   "source": [
    "tennis = pd.read_csv('Sample.csv')"
   ]
  },
  {
   "cell_type": "code",
   "execution_count": null,
   "id": "8265057f",
   "metadata": {},
   "outputs": [],
   "source": [
    "tennis"
   ]
  },
  {
   "cell_type": "code",
   "execution_count": null,
   "id": "8ca91415",
   "metadata": {},
   "outputs": [],
   "source": [
    "ct_outlook=pd.crosstab(tennis['outlook'], tennis['play'], margins = True)\n",
    "ct_outlook"
   ]
  },
  {
   "cell_type": "code",
   "execution_count": null,
   "id": "2262132b",
   "metadata": {},
   "outputs": [],
   "source": [
    "ct_temp=pd.crosstab(tennis['temp'], tennis['play'], margins = True)\n",
    "ct_temp"
   ]
  },
  {
   "cell_type": "code",
   "execution_count": null,
   "id": "8488c6b7",
   "metadata": {},
   "outputs": [],
   "source": [
    "ct_humidity=pd.crosstab(tennis['humidity'], tennis['play'], margins = True)\n",
    "ct_humidity"
   ]
  },
  {
   "cell_type": "code",
   "execution_count": null,
   "id": "7706d99b",
   "metadata": {},
   "outputs": [],
   "source": [
    "ct_windy=pd.crosstab(tennis['windy'], tennis['play'], margins = True)\n",
    "ct_windy"
   ]
  },
  {
   "cell_type": "code",
   "execution_count": null,
   "id": "027bc50c",
   "metadata": {},
   "outputs": [],
   "source": [
    "ct_play=pd.crosstab(index=tennis['play'],columns=\"count\", margins=True)\n",
    "ct_play"
   ]
  },
  {
   "cell_type": "code",
   "execution_count": null,
   "id": "d4380628",
   "metadata": {},
   "outputs": [],
   "source": [
    "# calculation of P(yes/(sunny,hot,high,true))= p(yes) *  [ P(sunny/yes)* p(hot/yes) * p(high/yes)* p(true/yes)]\n",
    "\n",
    "p_yes = ct_play.iloc[1,0] /ct_play.iloc[2,0] * ct_outlook.iloc[2,1]/ct_outlook.iloc[3,1] * ct_temp.iloc[1,1]/ct_temp.iloc[3,1]*ct_humidity.iloc[0,1]/ct_humidity.iloc[2,1]*ct_windy.iloc[1,1]/ct_windy.iloc[2,1] \n",
    "print('The probability of tennis played with given conditions is', '%.3f'%p_yes)"
   ]
  },
  {
   "cell_type": "code",
   "execution_count": null,
   "id": "07dba7b8",
   "metadata": {},
   "outputs": [],
   "source": [
    "# calculation of P(no/(sunny,hot,high,true))= p(no) *  [ P(sunny/no)* p(hot/no) * p(high/no)* p(true/no)]\n",
    "\n",
    "p_no = ct_play.iloc[0,0] /ct_play.iloc[2,0] * ct_outlook.iloc[2,0]/ct_outlook.iloc[3,0] * ct_temp.iloc[1,0]/ct_temp.iloc[3,0]*ct_humidity.iloc[0,0]/ct_humidity.iloc[2,0]*ct_windy.iloc[1,0]/ct_windy.iloc[2,0] \n",
    "print('The probability of tennis not played with given conditions is', '%.3f'%p_no)"
   ]
  },
  {
   "cell_type": "code",
   "execution_count": null,
   "id": "9b319ee3",
   "metadata": {},
   "outputs": [],
   "source": [
    "if p_yes > p_no:\n",
    "      print('tennis match will be conducted when the outlook is sunny, the temperature is hot, there is high humidity and windy is higher')\n",
    "else:\n",
    "      print('tennis match will not be conducted when the outlook is sunny, the temperature is hot, there is high humidity and windy is higher')"
   ]
  },
  {
   "cell_type": "code",
   "execution_count": null,
   "id": "f428bbca",
   "metadata": {},
   "outputs": [],
   "source": []
  }
 ],
 "metadata": {
  "kernelspec": {
   "display_name": "Python 3 (ipykernel)",
   "language": "python",
   "name": "python3"
  },
  "language_info": {
   "codemirror_mode": {
    "name": "ipython",
    "version": 3
   },
   "file_extension": ".py",
   "mimetype": "text/x-python",
   "name": "python",
   "nbconvert_exporter": "python",
   "pygments_lexer": "ipython3",
   "version": "3.9.7"
  }
 },
 "nbformat": 4,
 "nbformat_minor": 5
}
