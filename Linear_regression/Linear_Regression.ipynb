{
 "cells": [
  {
   "cell_type": "code",
   "execution_count": null,
   "id": "09df6839",
   "metadata": {},
   "outputs": [],
   "source": [
    "import pandas as pd\n",
    "import numpy as np\n",
    "import matplotlib.pyplot as plt"
   ]
  },
  {
   "cell_type": "code",
   "execution_count": null,
   "id": "a5881fa0",
   "metadata": {},
   "outputs": [],
   "source": [
    "plt.rcParams['figure.figsize'] = (12.0, 9.0)"
   ]
  },
  {
   "cell_type": "code",
   "execution_count": null,
   "id": "2a89b354",
   "metadata": {
    "scrolled": true
   },
   "outputs": [],
   "source": [
    "# Preprocessing Input data\n",
    "data = pd.read_csv('home.csv')\n",
    "print(data)"
   ]
  },
  {
   "cell_type": "code",
   "execution_count": null,
   "id": "5ae75e3c",
   "metadata": {},
   "outputs": [],
   "source": [
    "#X = data.iloc[:, 0]\n",
    "#Y = data.iloc[:, 1]\n",
    "X = [5,7,8,7,2,17,2,9,4,11,12,9,6]\n",
    "Y = [99,86,87,88,111,86,103,87,94,78,77,85,86]\n",
    "plt.scatter(X, Y)\n",
    "plt.show()"
   ]
  },
  {
   "cell_type": "code",
   "execution_count": null,
   "id": "120bcf1d",
   "metadata": {},
   "outputs": [],
   "source": [
    "X_mean = np.mean(X)\n",
    "print(X_mean)"
   ]
  },
  {
   "cell_type": "code",
   "execution_count": null,
   "id": "440c6722",
   "metadata": {},
   "outputs": [],
   "source": [
    "Y_mean = np.mean(Y)\n",
    "print(Y_mean)"
   ]
  },
  {
   "cell_type": "code",
   "execution_count": null,
   "id": "234ae901",
   "metadata": {},
   "outputs": [],
   "source": [
    "num = 0\n",
    "den = 0\n",
    "for i in range(len(X)):\n",
    " num += (X[i] - X_mean)*(Y[i] - Y_mean)\n",
    " den += (X[i] - X_mean)**2\n",
    "m = num / den\n",
    "z= int(m)\n",
    "c = Y_mean - m*X_mean\n",
    "print (m, c)"
   ]
  },
  {
   "cell_type": "code",
   "execution_count": null,
   "id": "5fe75456",
   "metadata": {
    "scrolled": true
   },
   "outputs": [],
   "source": [
    "Y_pred = z*X + c\n",
    "plt.scatter(X, Y) # actual\n",
    "plt.scatter(X, Y_pred, color='red')\n",
    "plt.plot([min(X), max(X)], [min(Y_pred), max(Y_pred)], color='red') # predicted\n",
    "plt.show() #Making predictions"
   ]
  },
  {
   "cell_type": "code",
   "execution_count": null,
   "id": "9a221d8a",
   "metadata": {},
   "outputs": [],
   "source": []
  }
 ],
 "metadata": {
  "kernelspec": {
   "display_name": "Python 3 (ipykernel)",
   "language": "python",
   "name": "python3"
  },
  "language_info": {
   "codemirror_mode": {
    "name": "ipython",
    "version": 3
   },
   "file_extension": ".py",
   "mimetype": "text/x-python",
   "name": "python",
   "nbconvert_exporter": "python",
   "pygments_lexer": "ipython3",
   "version": "3.9.7"
  }
 },
 "nbformat": 4,
 "nbformat_minor": 5
}
