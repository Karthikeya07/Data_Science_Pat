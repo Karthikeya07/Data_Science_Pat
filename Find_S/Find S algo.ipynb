{
 "cells": [
  {
   "cell_type": "code",
   "execution_count": 1,
   "metadata": {},
   "outputs": [],
   "source": [
    "import pandas as pd\n",
    "import numpy as np"
   ]
  },
  {
   "cell_type": "code",
   "execution_count": 2,
   "metadata": {},
   "outputs": [],
   "source": [
    "data = pd.read_csv('sample.csv')"
   ]
  },
  {
   "cell_type": "code",
   "execution_count": 3,
   "metadata": {},
   "outputs": [
    {
     "data": {
      "text/html": [
       "<div>\n",
       "<style scoped>\n",
       "    .dataframe tbody tr th:only-of-type {\n",
       "        vertical-align: middle;\n",
       "    }\n",
       "\n",
       "    .dataframe tbody tr th {\n",
       "        vertical-align: top;\n",
       "    }\n",
       "\n",
       "    .dataframe thead th {\n",
       "        text-align: right;\n",
       "    }\n",
       "</style>\n",
       "<table border=\"1\" class=\"dataframe\">\n",
       "  <thead>\n",
       "    <tr style=\"text-align: right;\">\n",
       "      <th></th>\n",
       "      <th>Sky</th>\n",
       "      <th>AirTemp</th>\n",
       "      <th>Humidity</th>\n",
       "      <th>Wind</th>\n",
       "      <th>Water</th>\n",
       "      <th>Forecast</th>\n",
       "      <th>EnjoySport</th>\n",
       "    </tr>\n",
       "  </thead>\n",
       "  <tbody>\n",
       "    <tr>\n",
       "      <th>0</th>\n",
       "      <td>Sunny</td>\n",
       "      <td>Warm</td>\n",
       "      <td>Normal</td>\n",
       "      <td>Strong</td>\n",
       "      <td>Warm</td>\n",
       "      <td>Same</td>\n",
       "      <td>Yes</td>\n",
       "    </tr>\n",
       "    <tr>\n",
       "      <th>1</th>\n",
       "      <td>Sunny</td>\n",
       "      <td>Warm</td>\n",
       "      <td>High</td>\n",
       "      <td>Strong</td>\n",
       "      <td>Warm</td>\n",
       "      <td>Same</td>\n",
       "      <td>Yes</td>\n",
       "    </tr>\n",
       "    <tr>\n",
       "      <th>2</th>\n",
       "      <td>Rainy</td>\n",
       "      <td>Cold</td>\n",
       "      <td>High</td>\n",
       "      <td>Strong</td>\n",
       "      <td>Warm</td>\n",
       "      <td>Change</td>\n",
       "      <td>No</td>\n",
       "    </tr>\n",
       "    <tr>\n",
       "      <th>3</th>\n",
       "      <td>Sunny</td>\n",
       "      <td>Warm</td>\n",
       "      <td>High</td>\n",
       "      <td>Strong</td>\n",
       "      <td>Cool</td>\n",
       "      <td>Change</td>\n",
       "      <td>Yes</td>\n",
       "    </tr>\n",
       "  </tbody>\n",
       "</table>\n",
       "</div>"
      ],
      "text/plain": [
       "     Sky AirTemp Humidity    Wind Water Forecast EnjoySport\n",
       "0  Sunny    Warm   Normal  Strong  Warm     Same        Yes\n",
       "1  Sunny    Warm     High  Strong  Warm     Same        Yes\n",
       "2  Rainy    Cold     High  Strong  Warm   Change         No\n",
       "3  Sunny    Warm     High  Strong  Cool   Change        Yes"
      ]
     },
     "execution_count": 3,
     "metadata": {},
     "output_type": "execute_result"
    }
   ],
   "source": [
    "data"
   ]
  },
  {
   "cell_type": "code",
   "execution_count": 4,
   "metadata": {},
   "outputs": [],
   "source": [
    "concepts = np.array(data)[:,:-1]"
   ]
  },
  {
   "cell_type": "code",
   "execution_count": 5,
   "metadata": {},
   "outputs": [
    {
     "data": {
      "text/plain": [
       "array([['Sunny', 'Warm', 'Normal', 'Strong', 'Warm', 'Same'],\n",
       "       ['Sunny', 'Warm', 'High', 'Strong', 'Warm', 'Same'],\n",
       "       ['Rainy', 'Cold', 'High', 'Strong', 'Warm', 'Change'],\n",
       "       ['Sunny', 'Warm', 'High', 'Strong', 'Cool', 'Change']],\n",
       "      dtype=object)"
      ]
     },
     "execution_count": 5,
     "metadata": {},
     "output_type": "execute_result"
    }
   ],
   "source": [
    "concepts\n"
   ]
  },
  {
   "cell_type": "code",
   "execution_count": 6,
   "metadata": {},
   "outputs": [],
   "source": [
    "target = np.array(data)[:,-1]"
   ]
  },
  {
   "cell_type": "code",
   "execution_count": 7,
   "metadata": {},
   "outputs": [
    {
     "data": {
      "text/plain": [
       "array(['Yes', 'Yes', 'No', 'Yes'], dtype=object)"
      ]
     },
     "execution_count": 7,
     "metadata": {},
     "output_type": "execute_result"
    }
   ],
   "source": [
    "target"
   ]
  },
  {
   "cell_type": "code",
   "execution_count": 8,
   "metadata": {},
   "outputs": [
    {
     "name": "stdout",
     "output_type": "stream",
     "text": [
      " The final hypothesis is: ['Sunny' 'Warm' '?' 'Strong' '?' '?']\n"
     ]
    }
   ],
   "source": [
    "def train(c,t):\n",
    "    for i, val in enumerate(t):\n",
    "        if val == \"Yes\":\n",
    "            specific_hypothesis = c[i].copy()\n",
    "            break\n",
    "             \n",
    "    for i, val in enumerate(c):\n",
    "        if t[i] == \"Yes\":\n",
    "            for x in range(len(specific_hypothesis)):\n",
    "                if val[x] != specific_hypothesis[x]:\n",
    "                    specific_hypothesis[x] = '?'\n",
    "                else:\n",
    "                    pass\n",
    "                 \n",
    "    return specific_hypothesis\n",
    " \n",
    "#obtaining the final hypothesis\n",
    "print(\" The final hypothesis is:\",train(concepts,target))\n"
   ]
  },
  {
   "cell_type": "code",
   "execution_count": null,
   "metadata": {},
   "outputs": [],
   "source": []
  },
  {
   "cell_type": "code",
   "execution_count": null,
   "metadata": {},
   "outputs": [],
   "source": []
  }
 ],
 "metadata": {
  "kernelspec": {
   "display_name": "Python 3",
   "language": "python",
   "name": "python3"
  },
  "language_info": {
   "codemirror_mode": {
    "name": "ipython",
    "version": 3
   },
   "file_extension": ".py",
   "mimetype": "text/x-python",
   "name": "python",
   "nbconvert_exporter": "python",
   "pygments_lexer": "ipython3",
   "version": "3.8.8"
  }
 },
 "nbformat": 4,
 "nbformat_minor": 4
}
