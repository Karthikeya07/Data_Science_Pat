{
 "cells": [
  {
   "cell_type": "code",
   "execution_count": 1,
   "id": "56bb677b",
   "metadata": {},
   "outputs": [],
   "source": [
    "h=['0','0','0','0','0','0']\n",
    "import csv \n",
    "a=open('sample.csv','r') \n",
    "b=csv.reader(a)"
   ]
  },
  {
   "cell_type": "code",
   "execution_count": 2,
   "id": "5850d149",
   "metadata": {},
   "outputs": [],
   "source": [
    "for i in b: \n",
    "    if(i[len(i)-1]=='Yes'):\n",
    "        for j in range (0,len(i)-1):\n",
    "            if (h[j]!=i[j] and h[j] == '0'):\n",
    "                h[j] = i[j]\n",
    "            elif(h[j] != 0 and h[j]!=i[j]):\n",
    "                h[j] = '?'"
   ]
  },
  {
   "cell_type": "code",
   "execution_count": 3,
   "id": "0472fd9b",
   "metadata": {},
   "outputs": [
    {
     "name": "stdout",
     "output_type": "stream",
     "text": [
      "['Sunny', 'Warm', '?', 'Strong', '?', '?']\n"
     ]
    }
   ],
   "source": [
    "print(h)"
   ]
  },
  {
   "cell_type": "code",
   "execution_count": null,
   "id": "1c6c55a0",
   "metadata": {},
   "outputs": [],
   "source": []
  }
 ],
 "metadata": {
  "kernelspec": {
   "display_name": "Python 3 (ipykernel)",
   "language": "python",
   "name": "python3"
  },
  "language_info": {
   "codemirror_mode": {
    "name": "ipython",
    "version": 3
   },
   "file_extension": ".py",
   "mimetype": "text/x-python",
   "name": "python",
   "nbconvert_exporter": "python",
   "pygments_lexer": "ipython3",
   "version": "3.9.7"
  }
 },
 "nbformat": 4,
 "nbformat_minor": 5
}
