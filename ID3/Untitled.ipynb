{
 "cells": [
  {
   "cell_type": "code",
   "execution_count": null,
   "id": "4fd3fb84",
   "metadata": {},
   "outputs": [],
   "source": [
    "import numpy as np\n",
    "import pandas as pd"
   ]
  },
  {
   "cell_type": "code",
   "execution_count": null,
   "id": "b18f941c",
   "metadata": {},
   "outputs": [],
   "source": [
    "eps = np.finfo(float).eps"
   ]
  },
  {
   "cell_type": "code",
   "execution_count": null,
   "id": "cec6ca5d",
   "metadata": {},
   "outputs": [],
   "source": [
    "tennis = pd.read_csv('Sample.csv')"
   ]
  },
  {
   "cell_type": "code",
   "execution_count": null,
   "id": "79843a45",
   "metadata": {},
   "outputs": [],
   "source": [
    "tennis"
   ]
  },
  {
   "cell_type": "code",
   "execution_count": null,
   "id": "c7997c07",
   "metadata": {},
   "outputs": [],
   "source": [
    "def find_entropy(df):\n",
    "    target = df.keys()[-1]  # The last dataframe column is the target attribute (playGolf)\n",
    "    entropy = 0\n",
    "    values = df[target].unique()\n",
    "\n",
    "    # for each value in the target playGolf attribute values\n",
    "    for value in values:\n",
    "        # ratio of values occurring and entropy\n",
    "        fraction = df[target].value_counts()[value] / len(df[target])\n",
    "        entropy += -fraction * np.log2(fraction)\n",
    "    return entropy"
   ]
  },
  {
   "cell_type": "code",
   "execution_count": null,
   "id": "ae07e6d6",
   "metadata": {},
   "outputs": [],
   "source": [
    "def find_entropy_attribute(df, attribute):\n",
    "    target = df.keys()[-1]\n",
    "    target_variables = df[target].unique()  # unique values in target playGolf attribute (Yes, No)\n",
    "    variables = df[attribute].unique() # Identify Sunny, Overcast, Rainy\n",
    "\n",
    "    # attribute entropy          # Variables=[sunny, sunny....5, overcast1.....overcast4, Rainy1...Ra5 ]\n",
    "    entropy2 = 0\n",
    "    # for each attribute value in attribute values\n",
    "    for variable in variables:\n",
    "        # value entropy\n",
    "        entropy = 0\n",
    "        # for each target value in target values (yes/no)\n",
    "        for target_variable in target_variables:\n",
    "            # frequency of attribute and target values (boolean indexing, pandas dataframe filtering)\n",
    "            num = len(df[attribute][df[attribute] == variable][df[target] == target_variable])\n",
    "            den = len(df[attribute][df[attribute] == variable])\n",
    "            fraction = num / (den + eps)\n",
    "            entropy += -fraction * np.log2(fraction + eps)\n",
    "        fraction2 = den / len(df)\n",
    "        entropy2 += -fraction2 * entropy\n",
    "    return abs(entropy2)"
   ]
  },
  {
   "cell_type": "code",
   "execution_count": null,
   "id": "252b4a88",
   "metadata": {},
   "outputs": [],
   "source": [
    "def bestClassifier(df):\n",
    "    # Entropy_att = []\n",
    "    # information gain array for all attributes\n",
    "    IG = []\n",
    "    # for all attributes excluding target\n",
    "    for key in df.keys()[:-1]:\n",
    "        # Entropy_att.append(find_entropy_attribute(df,key))\n",
    "        # calculate and record information gain value\n",
    "        IG.append(find_entropy(df) - find_entropy_attribute(df, key)) #0.940 -0.693= 0.247\n",
    "    return df.keys()[:-1][np.argmax(IG)]  # IG[0.247, 0.029, 0.152, 0.048 ]"
   ]
  },
  {
   "cell_type": "code",
   "execution_count": null,
   "id": "567d4097",
   "metadata": {},
   "outputs": [],
   "source": [
    "def get_subtable(df, node, value):\n",
    "    return df[df[node] == value].reset_index(drop=True)"
   ]
  },
  {
   "cell_type": "code",
   "execution_count": null,
   "id": "cf215b34",
   "metadata": {},
   "outputs": [],
   "source": [
    "def ID3split(df, tree=None):\n",
    "    target = df.keys()[-1]\n",
    "\n",
    "    # Here we build our decision tree\n",
    "\n",
    "    # Get attribute with maximum information gain\n",
    "    node = bestClassifier(df) # 0.247\n",
    "\n",
    "    # Get distinct value of that attribute e.g Salary is node and Low,Med and High are values\n",
    "    attributeValues = np.unique(df[node])\n",
    "\n",
    "    # Create an empty dictionary to create tree (recursive-friendly definition)\n",
    "    if tree is None:               #  Outlook ->root node attribute\n",
    "        tree = {}\n",
    "        tree[node] = {}\n",
    "\n",
    "    # following loop recursively calls ID3split to create and add to the tree\n",
    "    # it runs till the tree is pure (leaf (result) node branches are added to the tree)\n",
    "    for value in attributeValues:\n",
    "        # get the subtable from current node based on the value\n",
    "        subtable = get_subtable(df, node, value)\n",
    "        # get the most common target value in the subtable\n",
    "        targetValues, counts = np.unique(subtable[target], return_counts=True)\n",
    "\n",
    "        # if the subtable is empty, assign the leaf node to the most common target value\n",
    "        if len(counts) == 1:\n",
    "            tree[node][value] = targetValues[0]\n",
    "        else:\n",
    "            # recursively call ID3 to create subtrees\n",
    "            tree[node][value] = ID3split(subtable)  # Calling the function recursively\n",
    "\n",
    "    return tree"
   ]
  },
  {
   "cell_type": "code",
   "execution_count": null,
   "id": "3885f0d5",
   "metadata": {},
   "outputs": [],
   "source": [
    "decisionTree = ID3split(dataframe)\n",
    "print(decisionTree)"
   ]
  },
  {
   "cell_type": "code",
   "execution_count": null,
   "id": "ff4de033",
   "metadata": {},
   "outputs": [],
   "source": []
  }
 ],
 "metadata": {
  "kernelspec": {
   "display_name": "Python 3 (ipykernel)",
   "language": "python",
   "name": "python3"
  },
  "language_info": {
   "codemirror_mode": {
    "name": "ipython",
    "version": 3
   },
   "file_extension": ".py",
   "mimetype": "text/x-python",
   "name": "python",
   "nbconvert_exporter": "python",
   "pygments_lexer": "ipython3",
   "version": "3.9.7"
  }
 },
 "nbformat": 4,
 "nbformat_minor": 5
}
