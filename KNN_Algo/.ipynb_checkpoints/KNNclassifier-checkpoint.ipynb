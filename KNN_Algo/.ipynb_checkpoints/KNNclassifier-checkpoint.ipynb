{
 "cells": [
  {
   "cell_type": "code",
   "execution_count": null,
   "metadata": {
    "executionInfo": {
     "elapsed": 432,
     "status": "ok",
     "timestamp": 1635137051476,
     "user": {
      "displayName": "nageswararao sirisala",
      "photoUrl": "https://lh3.googleusercontent.com/a-/AOh14GhaHDIjiqv-Ad9myXZz-wllo31Q2FKdShG6nEOgMQ=s64",
      "userId": "05101538243336938329"
     },
     "user_tz": -330
    },
    "id": "I1d9QCU59Irb",
    "scrolled": false
   },
   "outputs": [],
   "source": [
    "import numpy as np\n",
    "import matplotlib.pyplot as plt\n",
    "import pandas as pd"
   ]
  },
  {
   "cell_type": "code",
   "execution_count": null,
   "metadata": {
    "executionInfo": {
     "elapsed": 15,
     "status": "ok",
     "timestamp": 1635137053708,
     "user": {
      "displayName": "nageswararao sirisala",
      "photoUrl": "https://lh3.googleusercontent.com/a-/AOh14GhaHDIjiqv-Ad9myXZz-wllo31Q2FKdShG6nEOgMQ=s64",
      "userId": "05101538243336938329"
     },
     "user_tz": -330
    },
    "id": "KEz3IYA69QbF",
    "scrolled": true
   },
   "outputs": [],
   "source": [
    "url = \"https://archive.ics.uci.edu/ml/machine-learning-databases/iris/iris.data\"\n",
    "\n",
    "# Assign colum names to the dataset\n",
    "names = ['sepal-length', 'sepal-width', 'petal-length', 'petal-width', 'Class']\n",
    "\n",
    "# Read dataset to pandas dataframe\n",
    "dataset = pd.read_csv(url, names=names)"
   ]
  },
  {
   "cell_type": "code",
   "execution_count": null,
   "metadata": {
    "colab": {
     "base_uri": "https://localhost:8080/",
     "height": 204
    },
    "executionInfo": {
     "elapsed": 431,
     "status": "ok",
     "timestamp": 1635137056442,
     "user": {
      "displayName": "nageswararao sirisala",
      "photoUrl": "https://lh3.googleusercontent.com/a-/AOh14GhaHDIjiqv-Ad9myXZz-wllo31Q2FKdShG6nEOgMQ=s64",
      "userId": "05101538243336938329"
     },
     "user_tz": -330
    },
    "id": "LlOagaMQ9Tfi",
    "outputId": "4701f288-60aa-48a6-a0d2-b529e3f97a50",
    "scrolled": true
   },
   "outputs": [],
   "source": [
    "dataset.head()"
   ]
  },
  {
   "cell_type": "code",
   "execution_count": null,
   "metadata": {
    "executionInfo": {
     "elapsed": 461,
     "status": "ok",
     "timestamp": 1635137065687,
     "user": {
      "displayName": "nageswararao sirisala",
      "photoUrl": "https://lh3.googleusercontent.com/a-/AOh14GhaHDIjiqv-Ad9myXZz-wllo31Q2FKdShG6nEOgMQ=s64",
      "userId": "05101538243336938329"
     },
     "user_tz": -330
    },
    "id": "7yjfCSoh9YWK",
    "scrolled": true
   },
   "outputs": [],
   "source": [
    "X = dataset.iloc[:, :-1].values\n",
    "y = dataset.iloc[:, 4].values"
   ]
  },
  {
   "cell_type": "code",
   "execution_count": null,
   "metadata": {
    "executionInfo": {
     "elapsed": 444,
     "status": "ok",
     "timestamp": 1635137069204,
     "user": {
      "displayName": "nageswararao sirisala",
      "photoUrl": "https://lh3.googleusercontent.com/a-/AOh14GhaHDIjiqv-Ad9myXZz-wllo31Q2FKdShG6nEOgMQ=s64",
      "userId": "05101538243336938329"
     },
     "user_tz": -330
    },
    "id": "a5z5eqh99cV2",
    "scrolled": true
   },
   "outputs": [],
   "source": [
    "from sklearn.model_selection import train_test_split\n",
    "X_train,X_test,y_train,y_test=train_test_split(X,y,test_size=0.2)"
   ]
  },
  {
   "cell_type": "code",
   "execution_count": null,
   "metadata": {
    "executionInfo": {
     "elapsed": 396,
     "status": "ok",
     "timestamp": 1635137072960,
     "user": {
      "displayName": "nageswararao sirisala",
      "photoUrl": "https://lh3.googleusercontent.com/a-/AOh14GhaHDIjiqv-Ad9myXZz-wllo31Q2FKdShG6nEOgMQ=s64",
      "userId": "05101538243336938329"
     },
     "user_tz": -330
    },
    "id": "QjamSLuy9gke",
    "scrolled": true
   },
   "outputs": [],
   "source": [
    "from sklearn.preprocessing import StandardScaler\n",
    "scaler = StandardScaler()\n",
    "scaler.fit(X_train)\n",
    "\n",
    "X_train = scaler.transform(X_train)\n",
    "X_test = scaler.transform(X_test)"
   ]
  },
  {
   "cell_type": "code",
   "execution_count": null,
   "metadata": {
    "colab": {
     "base_uri": "https://localhost:8080/"
    },
    "executionInfo": {
     "elapsed": 419,
     "status": "ok",
     "timestamp": 1635137186508,
     "user": {
      "displayName": "nageswararao sirisala",
      "photoUrl": "https://lh3.googleusercontent.com/a-/AOh14GhaHDIjiqv-Ad9myXZz-wllo31Q2FKdShG6nEOgMQ=s64",
      "userId": "05101538243336938329"
     },
     "user_tz": -330
    },
    "id": "iKQl7qVx9nuG",
    "outputId": "2684038b-d921-48e2-93e5-99efa76e099c",
    "scrolled": true
   },
   "outputs": [],
   "source": [
    "from sklearn.neighbors import KNeighborsClassifier\n",
    "classifier = KNeighborsClassifier(n_neighbors=5)\n",
    "classifier.fit(X_train, y_train)"
   ]
  },
  {
   "cell_type": "code",
   "execution_count": null,
   "metadata": {
    "executionInfo": {
     "elapsed": 397,
     "status": "ok",
     "timestamp": 1635137221554,
     "user": {
      "displayName": "nageswararao sirisala",
      "photoUrl": "https://lh3.googleusercontent.com/a-/AOh14GhaHDIjiqv-Ad9myXZz-wllo31Q2FKdShG6nEOgMQ=s64",
      "userId": "05101538243336938329"
     },
     "user_tz": -330
    },
    "id": "sLceqHiT9yt-",
    "scrolled": true
   },
   "outputs": [],
   "source": [
    "y_pred = classifier.predict(X_test)"
   ]
  },
  {
   "cell_type": "code",
   "execution_count": null,
   "metadata": {
    "colab": {
     "base_uri": "https://localhost:8080/"
    },
    "executionInfo": {
     "elapsed": 418,
     "status": "ok",
     "timestamp": 1635137286123,
     "user": {
      "displayName": "nageswararao sirisala",
      "photoUrl": "https://lh3.googleusercontent.com/a-/AOh14GhaHDIjiqv-Ad9myXZz-wllo31Q2FKdShG6nEOgMQ=s64",
      "userId": "05101538243336938329"
     },
     "user_tz": -330
    },
    "id": "o3fF6GkY91tu",
    "outputId": "37d04762-fb5a-4735-c1f7-0c2537f0a984",
    "scrolled": true
   },
   "outputs": [],
   "source": [
    "from sklearn.metrics import classification_report, confusion_matrix\n",
    "print(confusion_matrix(y_test, y_pred))\n",
    "print(classification_report(y_test, y_pred))"
   ]
  },
  {
   "cell_type": "code",
   "execution_count": null,
   "metadata": {
    "id": "4kwH_Klq98TO",
    "scrolled": true
   },
   "outputs": [],
   "source": [
    "error = []\n",
    "\n",
    "# Calculating error for K values between 1 and 40\n",
    "for i in range(1, 40):\n",
    "    knn = KNeighborsClassifier(n_neighbors=i)\n",
    "    knn.fit(X_train, y_train)\n",
    "    pred_i = knn.predict(X_test)\n",
    "    error.append(np.mean(pred_i != y_test))"
   ]
  },
  {
   "cell_type": "code",
   "execution_count": null,
   "metadata": {
    "colab": {
     "base_uri": "https://localhost:8080/",
     "height": 196
    },
    "executionInfo": {
     "elapsed": 689,
     "status": "ok",
     "timestamp": 1635128270018,
     "user": {
      "displayName": "nageswararao sirisala",
      "photoUrl": "https://lh3.googleusercontent.com/a-/AOh14GhaHDIjiqv-Ad9myXZz-wllo31Q2FKdShG6nEOgMQ=s64",
      "userId": "05101538243336938329"
     },
     "user_tz": -330
    },
    "id": "PO-gPRTu9-7P",
    "outputId": "aef3154c-12bc-41de-e049-ae233427d3c1",
    "scrolled": true
   },
   "outputs": [],
   "source": [
    "plt.figure(figsize=(12, 6))\n",
    "plt.plot(range(1, 40), error, color='red', linestyle='dashed', marker='o',\n",
    "         markerfacecolor='blue', markersize=10)\n",
    "plt.title('Error Rate K Value')\n",
    "plt.xlabel('K Value')\n",
    "plt.ylabel('Mean Error')"
   ]
  }
 ],
 "metadata": {
  "colab": {
   "authorship_tag": "ABX9TyOWqz0Ji8dcBI3Cg1KvfVrH",
   "collapsed_sections": [],
   "name": "KNNclassifier.ipynb",
   "provenance": []
  },
  "kernelspec": {
   "display_name": "Python 3 (ipykernel)",
   "language": "python",
   "name": "python3"
  },
  "language_info": {
   "codemirror_mode": {
    "name": "ipython",
    "version": 3
   },
   "file_extension": ".py",
   "mimetype": "text/x-python",
   "name": "python",
   "nbconvert_exporter": "python",
   "pygments_lexer": "ipython3",
   "version": "3.9.7"
  }
 },
 "nbformat": 4,
 "nbformat_minor": 1
}
